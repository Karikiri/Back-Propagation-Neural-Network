{
  "nbformat": 4,
  "nbformat_minor": 0,
  "metadata": {
    "colab": {
      "provenance": [],
      "collapsed_sections": [],
      "mount_file_id": "1imBQM_Bh-DIF4RmcuYPs_G2AIJuFB06C",
      "authorship_tag": "ABX9TyOe28BZthjvc1BDd8td1gta",
      "include_colab_link": true
    },
    "kernelspec": {
      "name": "python3",
      "display_name": "Python 3"
    },
    "language_info": {
      "name": "python"
    }
  },
  "cells": [
    {
      "cell_type": "markdown",
      "metadata": {
        "id": "view-in-github",
        "colab_type": "text"
      },
      "source": [
        "<a href=\"https://colab.research.google.com/github/Karikiri/Back-Propagation-Neural-Network/blob/main/Back_Propagation_Neural_Network_Submission.ipynb\" target=\"_parent\"><img src=\"https://colab.research.google.com/assets/colab-badge.svg\" alt=\"Open In Colab\"/></a>"
      ]
    },
    {
      "cell_type": "code",
      "execution_count": null,
      "metadata": {
        "id": "_doniWI5kFDc"
      },
      "outputs": [],
      "source": [
        "import pandas as pd\n",
        "import numpy as np\n",
        "from sklearn import datasets\n",
        "import random\n",
        "\n",
        "from sklearn.datasets import load_iris\n",
        "\n",
        "import matplotlib.pyplot as plt\n"
      ]
    },
    {
      "cell_type": "code",
      "source": [
        "def one_hot_encode(y):\n",
        "  encoded = np.zeros((3, 1))\n",
        "  encoded[y] = 1.0\n",
        "  return encoded"
      ],
      "metadata": {
        "id": "smr2yxBBxlJk"
      },
      "execution_count": null,
      "outputs": []
    },
    {
      "cell_type": "code",
      "source": [
        "class SplitDataset:\n",
        "  def __init__(self):\n",
        "    print('Split Dataset')\n",
        "\n",
        "  def split_dataset(df):\n",
        "    # Return random sample from dataset to be training, validation, testing sets\n",
        "    train, test = df.iloc[:120,:], df.iloc[120:,:]\n",
        "    return train, test\n",
        "  \n",
        "  # Last column as label, other as attributes\n",
        "  def train_dataset(train):\n",
        "    # Extract train x, turn label{0,1,2} to one hot coding \n",
        "    train_x = train[[train.columns[i] for i in range(train.shape[1]-1) ]]\n",
        "    train_y = [one_hot_encode(y) for y in train[train.columns[-1]]]\n",
        "\n",
        "    # Change train x and y to ndarray\n",
        "    train_x = np.asarray(train_x, dtype='float64')\n",
        "    train_y = np.asarray(train_y, dtype='float64')\n",
        "    \n",
        "    # Reshape the train x to (90, 4), train y to (90, 3)\n",
        "    train_x = [np.reshape(x,(4,1)) for x in train_x]\n",
        "\n",
        "    # Pack the attributes and label to training set\n",
        "    train = zip(list(train_x), list(train_y))\n",
        "\n",
        "    return list(train)\n",
        "\n",
        "  def test_dataset(test):\n",
        "    test_x = test[[test.columns[i] for i in range(test.shape[1]-1) ]]\n",
        "    eval_y = test[test.columns[-1]]\n",
        "    test_y = [one_hot_encode(y) for y in test[test.columns[-1]]]\n",
        "\n",
        "    # Change test x and y to ndarray\n",
        "    test_x = np.asarray(test_x, dtype='float64')\n",
        "    test_y = np.asarray(test_y, dtype='float64')\n",
        "\n",
        "    test_x = [np.reshape(x,(4,1)) for x in test_x]\n",
        "\n",
        "    test = zip(list(test_x), list(test_y))\n",
        "    return list(test), list(eval_y)\n",
        "\n"
      ],
      "metadata": {
        "id": "_WQ9LZ_gGjFL"
      },
      "execution_count": null,
      "outputs": []
    },
    {
      "cell_type": "code",
      "source": [
        "# Access Iris Dataset from sklearn datasets\n",
        "iris_df = pd.DataFrame((datasets.load_iris()).data)\n",
        "print(iris_df)\n",
        "iris_df['label']=(datasets.load_iris()).target\n",
        "iris_df.columns=['sepal_len', 'sepal_wid', 'petal_len', 'petal_wid', 'label']"
      ],
      "metadata": {
        "id": "Y9mAaKezJtb-",
        "colab": {
          "base_uri": "https://localhost:8080/"
        },
        "outputId": "22f37619-0cb1-4704-b231-5dd25aa108a3"
      },
      "execution_count": null,
      "outputs": [
        {
          "output_type": "stream",
          "name": "stdout",
          "text": [
            "       0    1    2    3\n",
            "0    5.1  3.5  1.4  0.2\n",
            "1    4.9  3.0  1.4  0.2\n",
            "2    4.7  3.2  1.3  0.2\n",
            "3    4.6  3.1  1.5  0.2\n",
            "4    5.0  3.6  1.4  0.2\n",
            "..   ...  ...  ...  ...\n",
            "145  6.7  3.0  5.2  2.3\n",
            "146  6.3  2.5  5.0  1.9\n",
            "147  6.5  3.0  5.2  2.0\n",
            "148  6.2  3.4  5.4  2.3\n",
            "149  5.9  3.0  5.1  1.8\n",
            "\n",
            "[150 rows x 4 columns]\n"
          ]
        }
      ]
    },
    {
      "cell_type": "code",
      "source": [
        "print(iris_df)"
      ],
      "metadata": {
        "colab": {
          "base_uri": "https://localhost:8080/"
        },
        "id": "mjpTRP4ITVkV",
        "outputId": "4a8d5ab4-14a2-4b2c-ea75-4880f989617f"
      },
      "execution_count": null,
      "outputs": [
        {
          "output_type": "stream",
          "name": "stdout",
          "text": [
            "     sepal_len  sepal_wid  petal_len  petal_wid  label\n",
            "0          5.1        3.5        1.4        0.2      0\n",
            "1          4.9        3.0        1.4        0.2      0\n",
            "2          4.7        3.2        1.3        0.2      0\n",
            "3          4.6        3.1        1.5        0.2      0\n",
            "4          5.0        3.6        1.4        0.2      0\n",
            "..         ...        ...        ...        ...    ...\n",
            "145        6.7        3.0        5.2        2.3      2\n",
            "146        6.3        2.5        5.0        1.9      2\n",
            "147        6.5        3.0        5.2        2.0      2\n",
            "148        6.2        3.4        5.4        2.3      2\n",
            "149        5.9        3.0        5.1        1.8      2\n",
            "\n",
            "[150 rows x 5 columns]\n"
          ]
        }
      ]
    },
    {
      "cell_type": "code",
      "source": [
        "# Randomise the Iris Flower Dataset\n",
        "iris_df = iris_df.reindex(np.random.permutation(iris_df.index))                                                          \n",
        "print(\"Randomized data by randomizing the index : \")\n",
        "iris_df"
      ],
      "metadata": {
        "colab": {
          "base_uri": "https://localhost:8080/",
          "height": 441
        },
        "id": "7df9EX7iJsNT",
        "outputId": "c83b119b-264e-44b0-808e-553214f74370"
      },
      "execution_count": null,
      "outputs": [
        {
          "output_type": "stream",
          "name": "stdout",
          "text": [
            "Randomized data by randomizing the index : \n"
          ]
        },
        {
          "output_type": "execute_result",
          "data": {
            "text/plain": [
              "     sepal_len  sepal_wid  petal_len  petal_wid  label\n",
              "93         5.0        2.3        3.3        1.0      1\n",
              "95         5.7        3.0        4.2        1.2      1\n",
              "76         6.8        2.8        4.8        1.4      1\n",
              "83         6.0        2.7        5.1        1.6      1\n",
              "44         5.1        3.8        1.9        0.4      0\n",
              "..         ...        ...        ...        ...    ...\n",
              "100        6.3        3.3        6.0        2.5      2\n",
              "105        7.6        3.0        6.6        2.1      2\n",
              "16         5.4        3.9        1.3        0.4      0\n",
              "114        5.8        2.8        5.1        2.4      2\n",
              "85         6.0        3.4        4.5        1.6      1\n",
              "\n",
              "[150 rows x 5 columns]"
            ],
            "text/html": [
              "\n",
              "  <div id=\"df-770c88b6-0ec6-4b64-870e-c74f08346dc4\">\n",
              "    <div class=\"colab-df-container\">\n",
              "      <div>\n",
              "<style scoped>\n",
              "    .dataframe tbody tr th:only-of-type {\n",
              "        vertical-align: middle;\n",
              "    }\n",
              "\n",
              "    .dataframe tbody tr th {\n",
              "        vertical-align: top;\n",
              "    }\n",
              "\n",
              "    .dataframe thead th {\n",
              "        text-align: right;\n",
              "    }\n",
              "</style>\n",
              "<table border=\"1\" class=\"dataframe\">\n",
              "  <thead>\n",
              "    <tr style=\"text-align: right;\">\n",
              "      <th></th>\n",
              "      <th>sepal_len</th>\n",
              "      <th>sepal_wid</th>\n",
              "      <th>petal_len</th>\n",
              "      <th>petal_wid</th>\n",
              "      <th>label</th>\n",
              "    </tr>\n",
              "  </thead>\n",
              "  <tbody>\n",
              "    <tr>\n",
              "      <th>93</th>\n",
              "      <td>5.0</td>\n",
              "      <td>2.3</td>\n",
              "      <td>3.3</td>\n",
              "      <td>1.0</td>\n",
              "      <td>1</td>\n",
              "    </tr>\n",
              "    <tr>\n",
              "      <th>95</th>\n",
              "      <td>5.7</td>\n",
              "      <td>3.0</td>\n",
              "      <td>4.2</td>\n",
              "      <td>1.2</td>\n",
              "      <td>1</td>\n",
              "    </tr>\n",
              "    <tr>\n",
              "      <th>76</th>\n",
              "      <td>6.8</td>\n",
              "      <td>2.8</td>\n",
              "      <td>4.8</td>\n",
              "      <td>1.4</td>\n",
              "      <td>1</td>\n",
              "    </tr>\n",
              "    <tr>\n",
              "      <th>83</th>\n",
              "      <td>6.0</td>\n",
              "      <td>2.7</td>\n",
              "      <td>5.1</td>\n",
              "      <td>1.6</td>\n",
              "      <td>1</td>\n",
              "    </tr>\n",
              "    <tr>\n",
              "      <th>44</th>\n",
              "      <td>5.1</td>\n",
              "      <td>3.8</td>\n",
              "      <td>1.9</td>\n",
              "      <td>0.4</td>\n",
              "      <td>0</td>\n",
              "    </tr>\n",
              "    <tr>\n",
              "      <th>...</th>\n",
              "      <td>...</td>\n",
              "      <td>...</td>\n",
              "      <td>...</td>\n",
              "      <td>...</td>\n",
              "      <td>...</td>\n",
              "    </tr>\n",
              "    <tr>\n",
              "      <th>100</th>\n",
              "      <td>6.3</td>\n",
              "      <td>3.3</td>\n",
              "      <td>6.0</td>\n",
              "      <td>2.5</td>\n",
              "      <td>2</td>\n",
              "    </tr>\n",
              "    <tr>\n",
              "      <th>105</th>\n",
              "      <td>7.6</td>\n",
              "      <td>3.0</td>\n",
              "      <td>6.6</td>\n",
              "      <td>2.1</td>\n",
              "      <td>2</td>\n",
              "    </tr>\n",
              "    <tr>\n",
              "      <th>16</th>\n",
              "      <td>5.4</td>\n",
              "      <td>3.9</td>\n",
              "      <td>1.3</td>\n",
              "      <td>0.4</td>\n",
              "      <td>0</td>\n",
              "    </tr>\n",
              "    <tr>\n",
              "      <th>114</th>\n",
              "      <td>5.8</td>\n",
              "      <td>2.8</td>\n",
              "      <td>5.1</td>\n",
              "      <td>2.4</td>\n",
              "      <td>2</td>\n",
              "    </tr>\n",
              "    <tr>\n",
              "      <th>85</th>\n",
              "      <td>6.0</td>\n",
              "      <td>3.4</td>\n",
              "      <td>4.5</td>\n",
              "      <td>1.6</td>\n",
              "      <td>1</td>\n",
              "    </tr>\n",
              "  </tbody>\n",
              "</table>\n",
              "<p>150 rows × 5 columns</p>\n",
              "</div>\n",
              "      <button class=\"colab-df-convert\" onclick=\"convertToInteractive('df-770c88b6-0ec6-4b64-870e-c74f08346dc4')\"\n",
              "              title=\"Convert this dataframe to an interactive table.\"\n",
              "              style=\"display:none;\">\n",
              "        \n",
              "  <svg xmlns=\"http://www.w3.org/2000/svg\" height=\"24px\"viewBox=\"0 0 24 24\"\n",
              "       width=\"24px\">\n",
              "    <path d=\"M0 0h24v24H0V0z\" fill=\"none\"/>\n",
              "    <path d=\"M18.56 5.44l.94 2.06.94-2.06 2.06-.94-2.06-.94-.94-2.06-.94 2.06-2.06.94zm-11 1L8.5 8.5l.94-2.06 2.06-.94-2.06-.94L8.5 2.5l-.94 2.06-2.06.94zm10 10l.94 2.06.94-2.06 2.06-.94-2.06-.94-.94-2.06-.94 2.06-2.06.94z\"/><path d=\"M17.41 7.96l-1.37-1.37c-.4-.4-.92-.59-1.43-.59-.52 0-1.04.2-1.43.59L10.3 9.45l-7.72 7.72c-.78.78-.78 2.05 0 2.83L4 21.41c.39.39.9.59 1.41.59.51 0 1.02-.2 1.41-.59l7.78-7.78 2.81-2.81c.8-.78.8-2.07 0-2.86zM5.41 20L4 18.59l7.72-7.72 1.47 1.35L5.41 20z\"/>\n",
              "  </svg>\n",
              "      </button>\n",
              "      \n",
              "  <style>\n",
              "    .colab-df-container {\n",
              "      display:flex;\n",
              "      flex-wrap:wrap;\n",
              "      gap: 12px;\n",
              "    }\n",
              "\n",
              "    .colab-df-convert {\n",
              "      background-color: #E8F0FE;\n",
              "      border: none;\n",
              "      border-radius: 50%;\n",
              "      cursor: pointer;\n",
              "      display: none;\n",
              "      fill: #1967D2;\n",
              "      height: 32px;\n",
              "      padding: 0 0 0 0;\n",
              "      width: 32px;\n",
              "    }\n",
              "\n",
              "    .colab-df-convert:hover {\n",
              "      background-color: #E2EBFA;\n",
              "      box-shadow: 0px 1px 2px rgba(60, 64, 67, 0.3), 0px 1px 3px 1px rgba(60, 64, 67, 0.15);\n",
              "      fill: #174EA6;\n",
              "    }\n",
              "\n",
              "    [theme=dark] .colab-df-convert {\n",
              "      background-color: #3B4455;\n",
              "      fill: #D2E3FC;\n",
              "    }\n",
              "\n",
              "    [theme=dark] .colab-df-convert:hover {\n",
              "      background-color: #434B5C;\n",
              "      box-shadow: 0px 1px 3px 1px rgba(0, 0, 0, 0.15);\n",
              "      filter: drop-shadow(0px 1px 2px rgba(0, 0, 0, 0.3));\n",
              "      fill: #FFFFFF;\n",
              "    }\n",
              "  </style>\n",
              "\n",
              "      <script>\n",
              "        const buttonEl =\n",
              "          document.querySelector('#df-770c88b6-0ec6-4b64-870e-c74f08346dc4 button.colab-df-convert');\n",
              "        buttonEl.style.display =\n",
              "          google.colab.kernel.accessAllowed ? 'block' : 'none';\n",
              "\n",
              "        async function convertToInteractive(key) {\n",
              "          const element = document.querySelector('#df-770c88b6-0ec6-4b64-870e-c74f08346dc4');\n",
              "          const dataTable =\n",
              "            await google.colab.kernel.invokeFunction('convertToInteractive',\n",
              "                                                     [key], {});\n",
              "          if (!dataTable) return;\n",
              "\n",
              "          const docLinkHtml = 'Like what you see? Visit the ' +\n",
              "            '<a target=\"_blank\" href=https://colab.research.google.com/notebooks/data_table.ipynb>data table notebook</a>'\n",
              "            + ' to learn more about interactive tables.';\n",
              "          element.innerHTML = '';\n",
              "          dataTable['output_type'] = 'display_data';\n",
              "          await google.colab.output.renderOutput(dataTable, element);\n",
              "          const docLink = document.createElement('div');\n",
              "          docLink.innerHTML = docLinkHtml;\n",
              "          element.appendChild(docLink);\n",
              "        }\n",
              "      </script>\n",
              "    </div>\n",
              "  </div>\n",
              "  "
            ]
          },
          "metadata": {},
          "execution_count": 20
        }
      ]
    },
    {
      "cell_type": "code",
      "source": [
        "# Split Iris Dataset to training set, validation set, testing set\n",
        "iris_train, iris_test = SplitDataset.split_dataset(iris_df)"
      ],
      "metadata": {
        "id": "i2o_cuy8PI-O"
      },
      "execution_count": null,
      "outputs": []
    },
    {
      "cell_type": "code",
      "source": [
        "print(len(iris_train))\n",
        "print(len(iris_test))"
      ],
      "metadata": {
        "colab": {
          "base_uri": "https://localhost:8080/"
        },
        "id": "BTQuker3Szmt",
        "outputId": "8b0c2dad-3aea-43f5-b4d4-2e707cff4bb5"
      },
      "execution_count": null,
      "outputs": [
        {
          "output_type": "stream",
          "name": "stdout",
          "text": [
            "120\n",
            "30\n"
          ]
        }
      ]
    },
    {
      "cell_type": "code",
      "source": [
        "# Split each set to attributes and label\n",
        "iris_train = SplitDataset.train_dataset(iris_train)\n",
        "iris_test, eval_y = SplitDataset.test_dataset(iris_test) # eval_y is  true y for evaluation"
      ],
      "metadata": {
        "id": "h6BRfx3JJvcZ"
      },
      "execution_count": null,
      "outputs": []
    },
    {
      "cell_type": "code",
      "source": [
        "# Activation Function\n",
        "def sigmoid(z):\n",
        "    return 1.0/(1.0+np.exp(-z))\n",
        " \n",
        "def sigmoid_prime(z):\n",
        "    return sigmoid(z)*(1-sigmoid(z))"
      ],
      "metadata": {
        "id": "cnQOTRPKLf-U"
      },
      "execution_count": null,
      "outputs": []
    },
    {
      "cell_type": "code",
      "source": [
        "class Network:\n",
        "  # sizes is a list of the number of nodes in each layer\n",
        "  def __init__(self, sizes):\n",
        "    self.num_layers = len(sizes) # num_layer =  3\n",
        "    self.sizes = sizes # size =  [4, 5, 3]\n",
        "    self.biases = [np.random.randn(y, 1) for y in sizes[1:]]\n",
        "    self.weights = [np.random.randn(y, x) for x,y in zip(sizes[:-1], sizes[1:])]\n",
        "\n",
        "  # forward current input vector\n",
        "  def forward(self, activation_vector):\n",
        "    for b, w in zip(self.biases, self.weights):\n",
        "        activation_vector = sigmoid(np.dot(w, activation_vector) + b)\n",
        "    return activation_vector\n",
        "  \n",
        "  def cost_derivative(self, output_activations, y):\n",
        "    return(output_activations - y)\n",
        "\n",
        "  def backprop(self, x, y):\n",
        "    # Initialise \n",
        "    nabla_b = [np.zeros(b.shape) for b in self.biases]\n",
        "    nabla_w = [np.zeros(w.shape) for w in self.weights]\n",
        "    # feedforward\n",
        "    activation = x\n",
        "    activations = [x] # stores activations layer by layer\n",
        "    zs = [] # stores z vectors layer by layer\n",
        "    for b, w in zip(self.biases, self.weights):\n",
        "      z = np.dot(w, activation) + b\n",
        "      zs.append(z)\n",
        "      activation = sigmoid(z)\n",
        "      activations.append(activation)\n",
        "   \n",
        "    # backward pass\n",
        "    delta = self.cost_derivative(activations[-1], y) * sigmoid_prime(zs[-1])\n",
        "    nabla_b[-1] = delta\n",
        "    nabla_w[-1] = np.dot(delta, activations[-2].transpose())\n",
        "\n",
        "    for _layer in range(2, self.num_layers):\n",
        "        z = zs[-_layer]\n",
        "        sp = sigmoid_prime(z)\n",
        "        delta = np.dot(self.weights[-_layer+1].transpose(), delta) * sp\n",
        "        nabla_b[-_layer] = delta\n",
        "        nabla_w[-_layer] = np.dot(delta, activations[-_layer-1].transpose())\n",
        "    return (nabla_b, nabla_w)\n",
        "\n",
        "  def SGD(self, training_data, epochs, mini_batch_size, lr, test_data):\n",
        "    samples = len(training_data) \n",
        "    if test_data:\n",
        "        n_test = len(test_data)\n",
        "    \n",
        "    for j in range(epochs):\n",
        "        random.shuffle(training_data)\n",
        "        mini_batches = [training_data[k:k+mini_batch_size]\n",
        "                        for k in range(0, samples, mini_batch_size)]\n",
        "        for mini_batch in mini_batches:\n",
        "            self.update_mini_batch(mini_batch, lr)\n",
        "        if test_data:\n",
        "            print(f\"Epoch {j+1}: {self.evaluate(test_data)} / {n_test}\")\n",
        "        else:\n",
        "            print(f\"Epoch {j+1} complete\")\n",
        "\n",
        "  def update_mini_batch(self, mini_batch, lr):\n",
        "    # Initialisation of bias and weights matrices with zeros in shape of the preset bias and weights\n",
        "    nabla_b = [np.zeros(b.shape) for b in self.biases]\n",
        "    nabla_w = [np.zeros(w.shape) for w in self.weights]\n",
        "    \n",
        "    for x, y in mini_batch:\n",
        "        delta_nabla_b, delta_nabla_w = self.backprop(x, y)\n",
        "        nabla_b = [nb + dnb for nb, dnb in zip(nabla_b, delta_nabla_b)]\n",
        "        nabla_w = [nw + dnw for nw, dnw in zip(nabla_w, delta_nabla_w)]\n",
        "    self.weights = [w-(lr/len(mini_batch))*nw\n",
        "                    for w, nw in zip(self.weights, nabla_w)]\n",
        "    self.biases = [b-(lr/len(mini_batch))*nb\n",
        "                   for b, nb in zip(self.biases, nabla_b)]\n",
        "\n",
        "  def evaluate(self, test_data):\n",
        "    #return the indices of the maximum values along an axis\n",
        "    test_results = [(np.argmax(self.forward(x)), y)\n",
        "                    for (x, y) in test_data] # x -> input features | y -> labels\n",
        "    #print(test_results)\n",
        "    return sum(int(y[x]) for (x, y) in test_results)\n",
        "\n",
        "  def confusion_matrix(self, test_data, true_y):\n",
        "    test_results = [(np.argmax(self.forward(x)), y)\n",
        "                    for (x, y) in test_data]\n",
        "    pred_y = []\n",
        "    for i in range(len(test_results)):\n",
        "      pred_y.append(test_results[i][0])\n",
        "    # Create Confusion Matrix \n",
        "    y_actu = pd.Series(true_y, name='Actual')\n",
        "    y_pred = pd.Series(pred_y, name='Predicted')\n",
        "    df_confusion = pd.crosstab(y_actu, y_pred)\n",
        "    return df_confusion\n",
        "\n"
      ],
      "metadata": {
        "id": "H4CMVOrBkUDo"
      },
      "execution_count": null,
      "outputs": []
    },
    {
      "cell_type": "code",
      "source": [
        "# Initialisation of BPNN\n",
        "net = Network([4, 5, 3]) # 3 layers\n",
        "net.SGD(iris_train, 50, 5, 1.0, test_data=iris_test)"
      ],
      "metadata": {
        "colab": {
          "base_uri": "https://localhost:8080/"
        },
        "id": "aS-izb87vqx-",
        "outputId": "bb52e56d-8d2b-4d1e-9ed6-932acf7b2829"
      },
      "execution_count": null,
      "outputs": [
        {
          "output_type": "stream",
          "name": "stdout",
          "text": [
            "Epoch 1: 17 / 30\n",
            "Epoch 2: 18 / 30\n",
            "Epoch 3: 18 / 30\n",
            "Epoch 4: 18 / 30\n",
            "Epoch 5: 24 / 30\n",
            "Epoch 6: 18 / 30\n",
            "Epoch 7: 18 / 30\n",
            "Epoch 8: 18 / 30\n",
            "Epoch 9: 18 / 30\n",
            "Epoch 10: 18 / 30\n",
            "Epoch 11: 18 / 30\n",
            "Epoch 12: 18 / 30\n",
            "Epoch 13: 18 / 30\n",
            "Epoch 14: 19 / 30\n",
            "Epoch 15: 20 / 30\n",
            "Epoch 16: 18 / 30\n",
            "Epoch 17: 21 / 30\n",
            "Epoch 18: 18 / 30\n",
            "Epoch 19: 18 / 30\n",
            "Epoch 20: 19 / 30\n",
            "Epoch 21: 19 / 30\n",
            "Epoch 22: 26 / 30\n",
            "Epoch 23: 18 / 30\n",
            "Epoch 24: 20 / 30\n",
            "Epoch 25: 25 / 30\n",
            "Epoch 26: 18 / 30\n",
            "Epoch 27: 20 / 30\n",
            "Epoch 28: 21 / 30\n",
            "Epoch 29: 28 / 30\n",
            "Epoch 30: 20 / 30\n",
            "Epoch 31: 24 / 30\n",
            "Epoch 32: 19 / 30\n",
            "Epoch 33: 26 / 30\n",
            "Epoch 34: 24 / 30\n",
            "Epoch 35: 24 / 30\n",
            "Epoch 36: 29 / 30\n",
            "Epoch 37: 18 / 30\n",
            "Epoch 38: 19 / 30\n",
            "Epoch 39: 26 / 30\n",
            "Epoch 40: 30 / 30\n",
            "Epoch 41: 25 / 30\n",
            "Epoch 42: 26 / 30\n",
            "Epoch 43: 26 / 30\n",
            "Epoch 44: 28 / 30\n",
            "Epoch 45: 22 / 30\n",
            "Epoch 46: 27 / 30\n",
            "Epoch 47: 27 / 30\n",
            "Epoch 48: 27 / 30\n",
            "Epoch 49: 30 / 30\n",
            "Epoch 50: 26 / 30\n"
          ]
        }
      ]
    },
    {
      "cell_type": "code",
      "source": [
        "# Confusion_Matrix \n",
        "df_confusion = net.confusion_matrix(test_data=iris_test,true_y=eval_y)\n",
        "print(df_confusion)"
      ],
      "metadata": {
        "colab": {
          "base_uri": "https://localhost:8080/"
        },
        "id": "OYzleRbeJFW-",
        "outputId": "7e17be2f-5c5d-4c72-f5ab-f27bcdfe5ea5"
      },
      "execution_count": null,
      "outputs": [
        {
          "output_type": "stream",
          "name": "stdout",
          "text": [
            "Predicted  0   1  2\n",
            "Actual             \n",
            "0          8   0  0\n",
            "1          0  12  0\n",
            "2          0   4  6\n"
          ]
        }
      ]
    },
    {
      "cell_type": "code",
      "source": [
        "def plot_confusion_matrix(df_confusion, title='Confusion matrix', cmap=plt.cm.gray_r):\n",
        "    plt.matshow(df_confusion, cmap=cmap)\n",
        "    plt.colorbar()\n",
        "    tick_marks = np.arange(len(df_confusion.columns))\n",
        "    plt.xticks(tick_marks, df_confusion.columns, rotation=45)\n",
        "    plt.yticks(tick_marks, df_confusion.index)\n",
        "    plt.ylabel(df_confusion.index.name)\n",
        "    plt.xlabel(df_confusion.columns.name)\n",
        "\n",
        "plot_confusion_matrix(df_confusion)"
      ],
      "metadata": {
        "colab": {
          "base_uri": "https://localhost:8080/",
          "height": 264
        },
        "id": "haGbGOQ48qOt",
        "outputId": "c3edc60d-56d9-42fc-e447-7254a5ecea67"
      },
      "execution_count": null,
      "outputs": [
        {
          "output_type": "display_data",
          "data": {
            "text/plain": [
              "<Figure size 288x288 with 2 Axes>"
            ],
            "image/png": "[encoded data removed]"
          },
          "metadata": {
            "needs_background": "light"
          }
        }
      ]
    }
  ]
}